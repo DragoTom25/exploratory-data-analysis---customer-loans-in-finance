{
 "cells": [
  {
   "cell_type": "code",
   "execution_count": 9,
   "id": "7e19480f-ac4f-4d02-aff6-1094d8d21d71",
   "metadata": {},
   "source": [
    "import yaml\n",
    "from sqlalchemy import create_engine, inspect, text\n",
    "import pandas as pd\n",
    "from dateutil.parser import parse"
   ],
   "outputs": []
  },
  {
   "cell_type": "code",
   "execution_count": 11,
   "id": "c6b23c9e-d702-45b6-b013-350b1ea5f1fc",
   "metadata": {},
   "source": [
    "class RDSDatabaseConnector():\n",
    "\n",
    "    def __init__(self, yaml_file):\n",
    "        self.yaml_file = yaml_file\n",
    "\n",
    "        self.db_engine = self.init_db_engine(self.read_db_creds())\n",
    "\n",
    "    #  self.db_table_list = self.list_db_tables()\n",
    "\n",
    "    def read_db_creds(self):\n",
    "        with open(self.yaml_file, 'r') as f:\n",
    "            db_creds = yaml.safe_load(f)\n",
    "            return db_creds\n",
    "\n",
    "    def init_db_engine(self, db_creds):\n",
    "        db_engine = create_engine(f\"postgresql://{db_creds['RDS_USER']}:{db_creds['RDS_PASSWORD']}@{db_creds['RDS_HOST']}:{db_creds['RDS_PORT']}/{db_creds['RDS_DATABASE']}\")\n",
    "        return db_engine\n",
    "\n",
    "    def read_rds_table(self, table_name):\n",
    "        table_data = pd.read_sql_table(table_name, self.db_engine)\n",
    "\n",
    "        return table_data\n",
    "\n",
    "    def convert_to_csv(self, df, csv_filename):\n",
    "        df.to_csv(csv_filename, index=False)"
   ],
   "outputs": []
  },
  {
   "cell_type": "code",
   "execution_count": 12,
   "id": "8d6344cb-0127-443c-90b7-f0e5d3558071",
   "metadata": {},
   "source": [
    "RDS = RDSDatabaseConnector('credentials.yaml')"
   ],
   "outputs": []
  },
  {
   "cell_type": "code",
   "execution_count": 13,
   "id": "0008ff40-ea74-48aa-91f8-2472745d3d32",
   "metadata": {},
   "source": [
    "loan_payments = RDS.read_rds_table('loan_payments')"
   ],
   "outputs": []
  },
  {
   "cell_type": "code",
   "execution_count": 15,
   "id": "19ab1254-3398-447a-8a53-e611c52f555a",
   "metadata": {},
   "source": [
    "RDS.convert_to_csv(loan_payments, 'loan_payments.csv')"
   ],
   "outputs": []
  },
  {
   "cell_type": "code",
   "execution_count": null,
   "id": "763ded5a-5da0-4f45-a1ab-897ff8a5e9d9",
   "metadata": {},
   "source": [],
   "outputs": []
  }
 ],
 "metadata": {
  "kernelspec": {
   "display_name": "Python 3 (ipykernel)",
   "language": "python",
   "name": "python3"
  },
  "language_info": {
   "codemirror_mode": {
    "name": "ipython",
    "version": 3
   },
   "file_extension": ".py",
   "mimetype": "text/x-python",
   "name": "python",
   "nbconvert_exporter": "python",
   "pygments_lexer": "ipython3",
   "version": "3.11.9"
  }
 },
 "nbformat": 4,
 "nbformat_minor": 5
}
